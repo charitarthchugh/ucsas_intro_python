{
 "cells": [
  {
   "cell_type": "markdown",
   "metadata": {},
   "source": [
    "# Some practice problems "
   ]
  },
  {
   "cell_type": "markdown",
   "metadata": {},
   "source": [
    "## 1. Passwords Manipulation\n",
    "Given a string that contains multiple passwords separated by a space, split it and replace each instance of b with a i."
   ]
  },
  {
   "cell_type": "code",
   "execution_count": null,
   "metadata": {},
   "outputs": [],
   "source": [
    "\"uconnabclub uconndatascbence allbzzwell\""
   ]
  },
  {
   "cell_type": "markdown",
   "metadata": {},
   "source": [
    "## 2. A List problem\n",
    "Given a list `nums`, make a list `ans` of the same length, where `ans[i] = nums[nums[i]]` for each `i < len(nums)`"
   ]
  },
  {
   "cell_type": "code",
   "execution_count": null,
   "metadata": {},
   "outputs": [],
   "source": [
    "nums = [0,2,1,5,3,4]"
   ]
  },
  {
   "cell_type": "markdown",
   "metadata": {},
   "source": [
    "## 3. Catalan Numbers\n",
    "The sequence of the Catalan numbers $C_n$, where n ≥ 0, can be defined using the following recurrence:\n",
    "$$\n",
    "C_0 = 1 \\\\\n",
    "$$\n",
    "$$\n",
    "C_k = \\frac{4k+2}{k+1}  \\quad \\textrm{if}\\quad C_k\\ge 1\n",
    "$$"
   ]
  },
  {
   "cell_type": "code",
   "execution_count": null,
   "metadata": {},
   "outputs": [],
   "source": [
    "def catalan(k):\n",
    "    pass"
   ]
  },
  {
   "cell_type": "markdown",
   "metadata": {},
   "source": [
    "## Rectangle Area\n",
    "Create a class Rectangle that stores the length and width of a rectangle. Additionally, create two functions to calculate area and perimeter "
   ]
  },
  {
   "cell_type": "code",
   "execution_count": null,
   "metadata": {},
   "outputs": [],
   "source": [
    "class Rectangle:\n",
    "    pass"
   ]
  },
  {
   "cell_type": "markdown",
   "metadata": {},
   "source": [
    "## Installing and importing packages\n",
    "1. Use pip to install requests (in Jupyter Notebooks, you need `!` at the start of a line to run terminal commands)\n",
    "2. Import requests and make a `GET` request to the following API: `https://dummyjson.com/products`\n",
    "3. Print the status code of the response\n",
    "4. Print the content of the response\n",
    "5. Print the content of the response as JSON\n",
    "\n",
    "Feel free to start searching to get your answers!"
   ]
  },
  {
   "cell_type": "code",
   "execution_count": null,
   "metadata": {},
   "outputs": [],
   "source": []
  }
 ],
 "metadata": {
  "kernelspec": {
   "display_name": "Python 3.10.6 64-bit",
   "language": "python",
   "name": "python3"
  },
  "language_info": {
   "name": "python",
   "version": "3.10.6"
  },
  "orig_nbformat": 4,
  "vscode": {
   "interpreter": {
    "hash": "31f2aee4e71d21fbe5cf8b01ff0e069b9275f58929596ceb00d14d90e3e16cd6"
   }
  }
 },
 "nbformat": 4,
 "nbformat_minor": 2
}
